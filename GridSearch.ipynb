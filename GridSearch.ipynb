{
 "cells": [
  {
   "cell_type": "code",
   "execution_count": null,
   "id": "5473de5f",
   "metadata": {},
   "outputs": [],
   "source": [
    "%matplotlib inline\n",
    "import numpy as np\n",
    "import matplotlib.pyplot as plt\n",
    "from zipfile import ZipFile\n",
    "from implementations import *\n",
    "from helpers import *\n",
    "from processing import *\n",
    "from cross_validation import *\n",
    "\n",
    "import seaborn as sns\n",
    "%load_ext autoreload\n",
    "%autoreload 2"
   ]
  },
  {
   "cell_type": "code",
   "execution_count": null,
   "id": "9181f4dd",
   "metadata": {},
   "outputs": [],
   "source": [
    "path_dataset_train = './data/train.csv.zip'\n",
    "path_dataset_test = './data/test.csv.zip'\n",
    "\n",
    "y_train, x_train, ids_train = load_data(path_dataset_train)\n",
    "_, x_test, ids_test = load_data(path_dataset_test)"
   ]
  },
  {
   "cell_type": "markdown",
   "id": "eacb0fe2",
   "metadata": {},
   "source": [
    "## Cross Validation for Gradient descent\n"
   ]
  },
  {
   "cell_type": "code",
   "execution_count": 9,
   "id": "b17e6067",
   "metadata": {},
   "outputs": [
    {
     "name": "stdout",
     "output_type": "stream",
     "text": [
      "Polynomial expension : 2, min_Q : 0, max_Q : 90\n",
      "Polynomial expension : 2, min_Q : 0, max_Q : 100\n",
      "Polynomial expension : 2, min_Q : 10, max_Q : 80\n",
      "Polynomial expension : 2, min_Q : 10, max_Q : 90\n",
      "Polynomial expension : 2, min_Q : 10, max_Q : 100\n",
      "Polynomial expension : 2, min_Q : 20, max_Q : 80\n",
      "Polynomial expension : 2, min_Q : 20, max_Q : 90\n"
     ]
    },
    {
     "ename": "KeyboardInterrupt",
     "evalue": "",
     "output_type": "error",
     "traceback": [
      "\u001b[1;31m---------------------------------------------------------------------------\u001b[0m",
      "\u001b[1;31mKeyboardInterrupt\u001b[0m                         Traceback (most recent call last)",
      "\u001b[1;32m~\\AppData\\Local\\Temp/ipykernel_32684/1921067405.py\u001b[0m in \u001b[0;36m<module>\u001b[1;34m\u001b[0m\n\u001b[0;32m     14\u001b[0m \u001b[0mf_train\u001b[0m \u001b[1;33m=\u001b[0m \u001b[1;32mlambda\u001b[0m \u001b[0my\u001b[0m\u001b[1;33m,\u001b[0m\u001b[0mx\u001b[0m\u001b[1;33m,\u001b[0m\u001b[0mlambda_\u001b[0m\u001b[1;33m,\u001b[0m\u001b[0mgamma\u001b[0m\u001b[1;33m,\u001b[0m \u001b[0minitial_w\u001b[0m \u001b[1;33m:\u001b[0m \u001b[0mmean_squared_error_gd\u001b[0m\u001b[1;33m(\u001b[0m\u001b[0my\u001b[0m\u001b[1;33m,\u001b[0m \u001b[0mx\u001b[0m\u001b[1;33m,\u001b[0m \u001b[0minitial_w\u001b[0m\u001b[1;33m,\u001b[0m \u001b[0mmax_iters\u001b[0m\u001b[1;33m,\u001b[0m \u001b[0mgamma\u001b[0m\u001b[1;33m)\u001b[0m\u001b[1;33m\u001b[0m\u001b[1;33m\u001b[0m\u001b[0m\n\u001b[0;32m     15\u001b[0m \u001b[1;33m\u001b[0m\u001b[0m\n\u001b[1;32m---> 16\u001b[1;33m \u001b[0mresult_gd\u001b[0m\u001b[1;33m,\u001b[0m \u001b[0mbest_params_gd\u001b[0m \u001b[1;33m=\u001b[0m \u001b[0mgrid_search_with_cross_validation\u001b[0m\u001b[1;33m(\u001b[0m\u001b[0my_train\u001b[0m\u001b[1;33m,\u001b[0m \u001b[0mx_train\u001b[0m\u001b[1;33m,\u001b[0m \u001b[0mids_train\u001b[0m\u001b[1;33m,\u001b[0m \u001b[0mnb_division_test\u001b[0m\u001b[1;33m,\u001b[0m \u001b[0mpoly\u001b[0m\u001b[1;33m,\u001b[0m \u001b[0mmin_Qs\u001b[0m\u001b[1;33m,\u001b[0m \u001b[0mmax_Qs\u001b[0m\u001b[1;33m,\u001b[0m \u001b[0mk_fold\u001b[0m\u001b[1;33m,\u001b[0m \u001b[0mf_train\u001b[0m\u001b[1;33m,\u001b[0m\u001b[0mgammas\u001b[0m \u001b[1;33m=\u001b[0m \u001b[0mgammas\u001b[0m\u001b[1;33m)\u001b[0m\u001b[1;33m\u001b[0m\u001b[1;33m\u001b[0m\u001b[0m\n\u001b[0m",
      "\u001b[1;32m~\\Documents\\EPFL_Master\\MA3\\ML\\ml-project-1-merle\\cross_validation.py\u001b[0m in \u001b[0;36mgrid_search_with_cross_validation\u001b[1;34m(y_train, x_train, ids_train, nb_division_test, poly, min_qs, max_qs, k_fold, f_train, lambdas, gammas)\u001b[0m\n\u001b[0;32m     47\u001b[0m                     \u001b[0mx\u001b[0m\u001b[1;33m,\u001b[0m \u001b[0my\u001b[0m \u001b[1;33m=\u001b[0m \u001b[0mx_train_l\u001b[0m\u001b[1;33m[\u001b[0m\u001b[0mtest\u001b[0m\u001b[1;33m]\u001b[0m\u001b[1;33m,\u001b[0m \u001b[0my_l\u001b[0m\u001b[1;33m[\u001b[0m\u001b[0mtest\u001b[0m\u001b[1;33m]\u001b[0m\u001b[1;33m\u001b[0m\u001b[1;33m\u001b[0m\u001b[0m\n\u001b[0;32m     48\u001b[0m                     \u001b[0minitial_w\u001b[0m \u001b[1;33m=\u001b[0m \u001b[0mnp\u001b[0m\u001b[1;33m.\u001b[0m\u001b[0mones\u001b[0m\u001b[1;33m(\u001b[0m\u001b[0mnp\u001b[0m\u001b[1;33m.\u001b[0m\u001b[0mshape\u001b[0m\u001b[1;33m(\u001b[0m\u001b[0mx_train_l\u001b[0m\u001b[1;33m[\u001b[0m\u001b[0mtest\u001b[0m\u001b[1;33m]\u001b[0m\u001b[1;33m)\u001b[0m\u001b[1;33m[\u001b[0m\u001b[1;36m1\u001b[0m\u001b[1;33m]\u001b[0m\u001b[1;33m)\u001b[0m\u001b[1;33m\u001b[0m\u001b[1;33m\u001b[0m\u001b[0m\n\u001b[1;32m---> 49\u001b[1;33m                     \u001b[0mbest_lambda\u001b[0m\u001b[1;33m,\u001b[0m \u001b[0mbest_gamma\u001b[0m\u001b[1;33m,\u001b[0m \u001b[0mbest_mse\u001b[0m\u001b[1;33m,\u001b[0m \u001b[0mbest_w\u001b[0m \u001b[1;33m=\u001b[0m \u001b[0mchoose_lambda_gamma\u001b[0m\u001b[1;33m(\u001b[0m\u001b[0my\u001b[0m\u001b[1;33m,\u001b[0m\u001b[0mx\u001b[0m\u001b[1;33m,\u001b[0m \u001b[0mlambdas\u001b[0m\u001b[1;33m,\u001b[0m \u001b[0mk_fold\u001b[0m\u001b[1;33m,\u001b[0m \u001b[0mf_train\u001b[0m\u001b[1;33m,\u001b[0m \u001b[0mgammas\u001b[0m\u001b[1;33m,\u001b[0m \u001b[0minitial_w\u001b[0m\u001b[1;33m,\u001b[0m \u001b[0mseed\u001b[0m \u001b[1;33m=\u001b[0m \u001b[1;36m12\u001b[0m\u001b[1;33m)\u001b[0m\u001b[1;33m\u001b[0m\u001b[1;33m\u001b[0m\u001b[0m\n\u001b[0m\u001b[0;32m     50\u001b[0m                     \u001b[0mresult_loss\u001b[0m\u001b[1;33m[\u001b[0m\u001b[0mtest\u001b[0m\u001b[1;33m,\u001b[0m \u001b[0mp_i\u001b[0m\u001b[1;33m,\u001b[0m \u001b[0mmin_i\u001b[0m\u001b[1;33m,\u001b[0m \u001b[0mmax_i\u001b[0m\u001b[1;33m]\u001b[0m \u001b[1;33m=\u001b[0m \u001b[0mbest_mse\u001b[0m\u001b[1;33m\u001b[0m\u001b[1;33m\u001b[0m\u001b[0m\n\u001b[0;32m     51\u001b[0m                     \u001b[0mresult_lambda\u001b[0m\u001b[1;33m[\u001b[0m\u001b[0mtest\u001b[0m\u001b[1;33m,\u001b[0m \u001b[0mp_i\u001b[0m\u001b[1;33m,\u001b[0m \u001b[0mmin_i\u001b[0m\u001b[1;33m,\u001b[0m \u001b[0mmax_i\u001b[0m\u001b[1;33m]\u001b[0m \u001b[1;33m=\u001b[0m \u001b[0mbest_lambda\u001b[0m\u001b[1;33m\u001b[0m\u001b[1;33m\u001b[0m\u001b[0m\n",
      "\u001b[1;32m~\\Documents\\EPFL_Master\\MA3\\ML\\ml-project-1-merle\\cross_validation.py\u001b[0m in \u001b[0;36mchoose_lambda_gamma\u001b[1;34m(y, x, lambdas, k_fold, f_train, gammas, initial_w, seed)\u001b[0m\n\u001b[0;32m    110\u001b[0m                 \u001b[1;31m#Make a CV on the kth fold\u001b[0m\u001b[1;33m\u001b[0m\u001b[1;33m\u001b[0m\u001b[0m\n\u001b[0;32m    111\u001b[0m                 \u001b[0mloss_tr\u001b[0m\u001b[1;33m,\u001b[0m \u001b[0mloss_te\u001b[0m\u001b[1;33m,\u001b[0m \u001b[0mw\u001b[0m \u001b[1;33m=\u001b[0m \u001b[0mcross_validation\u001b[0m\u001b[1;33m(\u001b[0m\u001b[0my\u001b[0m\u001b[1;33m,\u001b[0m \u001b[0mx\u001b[0m\u001b[1;33m,\u001b[0m \u001b[0mf_train\u001b[0m\u001b[1;33m,\u001b[0m \u001b[0mk_indices\u001b[0m\u001b[1;33m,\u001b[0m \u001b[0mk\u001b[0m\u001b[1;33m,\u001b[0m \u001b[0mlambda_\u001b[0m\u001b[1;33m,\u001b[0m \u001b[0mgamma\u001b[0m\u001b[1;33m)\u001b[0m\u001b[1;33m\u001b[0m\u001b[1;33m\u001b[0m\u001b[0m\n\u001b[1;32m--> 112\u001b[1;33m                 \u001b[0mloss_sum_tr\u001b[0m \u001b[1;33m+=\u001b[0m \u001b[0mloss_tr\u001b[0m\u001b[1;33m\u001b[0m\u001b[1;33m\u001b[0m\u001b[0m\n\u001b[0m\u001b[0;32m    113\u001b[0m                 \u001b[0mloss_sum_te\u001b[0m \u001b[1;33m+=\u001b[0m \u001b[0mloss_te\u001b[0m\u001b[1;33m\u001b[0m\u001b[1;33m\u001b[0m\u001b[0m\n\u001b[0;32m    114\u001b[0m                 \u001b[0mws\u001b[0m \u001b[1;33m+=\u001b[0m \u001b[0mw\u001b[0m\u001b[1;33m\u001b[0m\u001b[1;33m\u001b[0m\u001b[0m\n",
      "\u001b[1;32m~\\Documents\\EPFL_Master\\MA3\\ML\\ml-project-1-merle\\cross_validation.py\u001b[0m in \u001b[0;36mcross_validation\u001b[1;34m(y, x, f_train, k_indices, k, lambda_, gamma)\u001b[0m\n\u001b[0;32m    154\u001b[0m \u001b[1;33m\u001b[0m\u001b[0m\n\u001b[0;32m    155\u001b[0m     \u001b[0mw\u001b[0m\u001b[1;33m,\u001b[0m\u001b[0mloss\u001b[0m \u001b[1;33m=\u001b[0m \u001b[0mf_train\u001b[0m\u001b[1;33m(\u001b[0m\u001b[0my_train\u001b[0m\u001b[1;33m,\u001b[0m \u001b[0mx_train\u001b[0m\u001b[1;33m,\u001b[0m \u001b[0mlambda_\u001b[0m\u001b[1;33m,\u001b[0m \u001b[0mgamma\u001b[0m\u001b[1;33m,\u001b[0m \u001b[0mnp\u001b[0m\u001b[1;33m.\u001b[0m\u001b[0mones\u001b[0m\u001b[1;33m(\u001b[0m\u001b[1;33m(\u001b[0m\u001b[0mx_train\u001b[0m\u001b[1;33m.\u001b[0m\u001b[0mshape\u001b[0m\u001b[1;33m[\u001b[0m\u001b[1;36m1\u001b[0m\u001b[1;33m]\u001b[0m\u001b[1;33m,\u001b[0m\u001b[1;36m1\u001b[0m\u001b[1;33m)\u001b[0m\u001b[1;33m)\u001b[0m\u001b[1;33m)\u001b[0m\u001b[1;33m\u001b[0m\u001b[1;33m\u001b[0m\u001b[0m\n\u001b[1;32m--> 156\u001b[1;33m     \u001b[1;31m# calculate the loss for train and test data\u001b[0m\u001b[1;33m\u001b[0m\u001b[1;33m\u001b[0m\u001b[0m\n\u001b[0m\u001b[0;32m    157\u001b[0m     \u001b[0mloss_tr\u001b[0m\u001b[1;33m,\u001b[0m \u001b[0mloss_te\u001b[0m \u001b[1;33m=\u001b[0m \u001b[0mcompute_mse\u001b[0m\u001b[1;33m(\u001b[0m\u001b[0my_train\u001b[0m\u001b[1;33m,\u001b[0m \u001b[0mx_train\u001b[0m\u001b[1;33m,\u001b[0m \u001b[0mw\u001b[0m\u001b[1;33m)\u001b[0m\u001b[1;33m,\u001b[0m\u001b[0mcompute_mse\u001b[0m\u001b[1;33m(\u001b[0m\u001b[0my_test\u001b[0m\u001b[1;33m,\u001b[0m\u001b[0mx_test\u001b[0m\u001b[1;33m,\u001b[0m \u001b[0mw\u001b[0m\u001b[1;33m)\u001b[0m\u001b[1;33m\u001b[0m\u001b[1;33m\u001b[0m\u001b[0m\n\u001b[0;32m    158\u001b[0m     \u001b[1;32mreturn\u001b[0m \u001b[0mloss_tr\u001b[0m\u001b[1;33m,\u001b[0m \u001b[0mloss_te\u001b[0m\u001b[1;33m,\u001b[0m \u001b[0mw\u001b[0m\u001b[1;33m\u001b[0m\u001b[1;33m\u001b[0m\u001b[0m\n",
      "\u001b[1;32m~\\AppData\\Local\\Temp/ipykernel_32684/1921067405.py\u001b[0m in \u001b[0;36m<lambda>\u001b[1;34m(y, x, lambda_, gamma, initial_w)\u001b[0m\n\u001b[0;32m     12\u001b[0m \u001b[0mk_fold\u001b[0m \u001b[1;33m=\u001b[0m \u001b[1;36m4\u001b[0m\u001b[1;33m\u001b[0m\u001b[1;33m\u001b[0m\u001b[0m\n\u001b[0;32m     13\u001b[0m \u001b[1;33m\u001b[0m\u001b[0m\n\u001b[1;32m---> 14\u001b[1;33m \u001b[0mf_train\u001b[0m \u001b[1;33m=\u001b[0m \u001b[1;32mlambda\u001b[0m \u001b[0my\u001b[0m\u001b[1;33m,\u001b[0m\u001b[0mx\u001b[0m\u001b[1;33m,\u001b[0m\u001b[0mlambda_\u001b[0m\u001b[1;33m,\u001b[0m\u001b[0mgamma\u001b[0m\u001b[1;33m,\u001b[0m \u001b[0minitial_w\u001b[0m \u001b[1;33m:\u001b[0m \u001b[0mmean_squared_error_gd\u001b[0m\u001b[1;33m(\u001b[0m\u001b[0my\u001b[0m\u001b[1;33m,\u001b[0m \u001b[0mx\u001b[0m\u001b[1;33m,\u001b[0m \u001b[0minitial_w\u001b[0m\u001b[1;33m,\u001b[0m \u001b[0mmax_iters\u001b[0m\u001b[1;33m,\u001b[0m \u001b[0mgamma\u001b[0m\u001b[1;33m)\u001b[0m\u001b[1;33m\u001b[0m\u001b[1;33m\u001b[0m\u001b[0m\n\u001b[0m\u001b[0;32m     15\u001b[0m \u001b[1;33m\u001b[0m\u001b[0m\n\u001b[0;32m     16\u001b[0m \u001b[0mresult_gd\u001b[0m\u001b[1;33m,\u001b[0m \u001b[0mbest_params_gd\u001b[0m \u001b[1;33m=\u001b[0m \u001b[0mgrid_search_with_cross_validation\u001b[0m\u001b[1;33m(\u001b[0m\u001b[0my_train\u001b[0m\u001b[1;33m,\u001b[0m \u001b[0mx_train\u001b[0m\u001b[1;33m,\u001b[0m \u001b[0mids_train\u001b[0m\u001b[1;33m,\u001b[0m \u001b[0mnb_division_test\u001b[0m\u001b[1;33m,\u001b[0m \u001b[0mpoly\u001b[0m\u001b[1;33m,\u001b[0m \u001b[0mmin_Qs\u001b[0m\u001b[1;33m,\u001b[0m \u001b[0mmax_Qs\u001b[0m\u001b[1;33m,\u001b[0m \u001b[0mk_fold\u001b[0m\u001b[1;33m,\u001b[0m \u001b[0mf_train\u001b[0m\u001b[1;33m,\u001b[0m\u001b[0mgammas\u001b[0m \u001b[1;33m=\u001b[0m \u001b[0mgammas\u001b[0m\u001b[1;33m)\u001b[0m\u001b[1;33m\u001b[0m\u001b[1;33m\u001b[0m\u001b[0m\n",
      "\u001b[1;32m~\\Documents\\EPFL_Master\\MA3\\ML\\ml-project-1-merle\\implementations.py\u001b[0m in \u001b[0;36mmean_squared_error_gd\u001b[1;34m(y, tx, initial_w, max_iters, gamma)\u001b[0m\n\u001b[0;32m     99\u001b[0m     \u001b[0mw\u001b[0m \u001b[1;33m=\u001b[0m \u001b[0minitial_w\u001b[0m\u001b[1;33m\u001b[0m\u001b[1;33m\u001b[0m\u001b[0m\n\u001b[0;32m    100\u001b[0m     \u001b[1;32mfor\u001b[0m \u001b[0mn_iter\u001b[0m \u001b[1;32min\u001b[0m \u001b[0mrange\u001b[0m\u001b[1;33m(\u001b[0m\u001b[0mmax_iters\u001b[0m\u001b[1;33m)\u001b[0m\u001b[1;33m:\u001b[0m\u001b[1;33m\u001b[0m\u001b[1;33m\u001b[0m\u001b[0m\n\u001b[1;32m--> 101\u001b[1;33m         \u001b[0mgradient\u001b[0m \u001b[1;33m=\u001b[0m \u001b[0mcompute_mean_squared_gradient\u001b[0m\u001b[1;33m(\u001b[0m\u001b[0my\u001b[0m\u001b[1;33m,\u001b[0m \u001b[0mtx\u001b[0m\u001b[1;33m,\u001b[0m \u001b[0mw\u001b[0m\u001b[1;33m)\u001b[0m\u001b[1;33m\u001b[0m\u001b[1;33m\u001b[0m\u001b[0m\n\u001b[0m\u001b[0;32m    102\u001b[0m         \u001b[0mw\u001b[0m \u001b[1;33m=\u001b[0m \u001b[0mw\u001b[0m \u001b[1;33m-\u001b[0m \u001b[0mgamma\u001b[0m \u001b[1;33m*\u001b[0m \u001b[0mgradient\u001b[0m\u001b[1;33m\u001b[0m\u001b[1;33m\u001b[0m\u001b[0m\n\u001b[0;32m    103\u001b[0m     \u001b[0mloss\u001b[0m \u001b[1;33m=\u001b[0m \u001b[0mcompute_mse\u001b[0m\u001b[1;33m(\u001b[0m\u001b[0my\u001b[0m\u001b[1;33m,\u001b[0m \u001b[0mtx\u001b[0m\u001b[1;33m,\u001b[0m \u001b[0mw\u001b[0m\u001b[1;33m)\u001b[0m\u001b[1;33m\u001b[0m\u001b[1;33m\u001b[0m\u001b[0m\n",
      "\u001b[1;32m~\\Documents\\EPFL_Master\\MA3\\ML\\ml-project-1-merle\\implementations.py\u001b[0m in \u001b[0;36mcompute_mean_squared_gradient\u001b[1;34m(y, tx, w)\u001b[0m\n\u001b[0;32m     78\u001b[0m     \u001b[0mN\u001b[0m \u001b[1;33m=\u001b[0m \u001b[0my\u001b[0m\u001b[1;33m.\u001b[0m\u001b[0mshape\u001b[0m\u001b[1;33m[\u001b[0m\u001b[1;36m0\u001b[0m\u001b[1;33m]\u001b[0m\u001b[1;33m\u001b[0m\u001b[1;33m\u001b[0m\u001b[0m\n\u001b[0;32m     79\u001b[0m     \u001b[0merr\u001b[0m \u001b[1;33m=\u001b[0m \u001b[0my\u001b[0m \u001b[1;33m-\u001b[0m \u001b[0mtx\u001b[0m\u001b[1;33m.\u001b[0m\u001b[0mdot\u001b[0m\u001b[1;33m(\u001b[0m\u001b[0mw\u001b[0m\u001b[1;33m)\u001b[0m\u001b[1;33m\u001b[0m\u001b[1;33m\u001b[0m\u001b[0m\n\u001b[1;32m---> 80\u001b[1;33m     \u001b[0mgradient\u001b[0m \u001b[1;33m=\u001b[0m \u001b[1;33m-\u001b[0m\u001b[1;36m1\u001b[0m \u001b[1;33m/\u001b[0m \u001b[0mN\u001b[0m \u001b[1;33m*\u001b[0m \u001b[0mtx\u001b[0m\u001b[1;33m.\u001b[0m\u001b[0mT\u001b[0m\u001b[1;33m.\u001b[0m\u001b[0mdot\u001b[0m\u001b[1;33m(\u001b[0m\u001b[0merr\u001b[0m\u001b[1;33m)\u001b[0m\u001b[1;33m\u001b[0m\u001b[1;33m\u001b[0m\u001b[0m\n\u001b[0m\u001b[0;32m     81\u001b[0m     \u001b[1;32mreturn\u001b[0m \u001b[0mgradient\u001b[0m\u001b[1;33m\u001b[0m\u001b[1;33m\u001b[0m\u001b[0m\n\u001b[0;32m     82\u001b[0m \u001b[1;33m\u001b[0m\u001b[0m\n",
      "\u001b[1;31mKeyboardInterrupt\u001b[0m: "
     ]
    }
   ],
   "source": [
    "nb_division_test = 6\n",
    "min_Qs = np.linspace(0, 20, num = 3)\n",
    "max_Qs = np.linspace(80, 100, num = 3)\n",
    "poly = np.linspace(2,5,4, dtype=int)\n",
    "gammas = np.logspace(-6, -1, 4)\n",
    "max_iters = 900\n",
    "k_fold = 5\n",
    "\n",
    "f_train = lambda y,x,lambda_,gamma, initial_w : mean_squared_error_gd(y, x, initial_w, max_iters, gamma)\n",
    "\n",
    "result_gd, best_params_gd = grid_search_with_cross_validation(y_train, x_train, ids_train, nb_division_test, poly, min_Qs, max_Qs, k_fold, f_train,gammas = gammas)"
   ]
  },
  {
   "cell_type": "markdown",
   "id": "7d4ebf39",
   "metadata": {},
   "source": [
    "## Cross Validation for Stochastic Gradient descent"
   ]
  },
  {
   "cell_type": "code",
   "execution_count": null,
   "id": "4d799a10",
   "metadata": {
    "scrolled": true
   },
   "outputs": [],
   "source": [
    "nb_division_test = 6\n",
    "min_Qs = np.linspace(0, 20, num = 3)\n",
    "max_Qs = np.linspace(80, 100, num = 3)\n",
    "poly = np.linspace(2,9,8, dtype=int)\n",
    "gammas = np.logspace(-6, 0, 7)\n",
    "max_iters = 1000\n",
    "k_fold = 5\n",
    "\n",
    "f_train = lambda y,x,lambda_,gamma, initial_w : mean_squared_error_sgd(y, x, initial_w, max_iters, gamma)\n",
    "\n",
    "result_sgd, best_params_sgd = grid_search_with_cross_validation(y_train, x_train, ids_train, nb_division_test, poly, min_Qs, max_Qs, k_fold, f_train, gammas = gammas)"
   ]
  },
  {
   "cell_type": "markdown",
   "id": "5eaed7d5",
   "metadata": {},
   "source": [
    "## Cross Validation for Least Squares\n"
   ]
  },
  {
   "cell_type": "code",
   "execution_count": null,
   "id": "da41dc77",
   "metadata": {},
   "outputs": [],
   "source": [
    "nb_division_test = 6\n",
    "min_Qs = np.linspace(0, 25, num=6)\n",
    "max_Qs = np.linspace(75, 100, num=6)\n",
    "poly = np.linspace(2,7,6, dtype=int)\n",
    "k_fold = 4\n",
    "\n",
    "f_train = lambda y,x,lambda_,gamma, initial_w : least_squares(y,x)\n",
    "\n",
    "result_ls, best_params_ls = grid_search_with_cross_validation(y_train, x_train, ids_train ,nb_division_test, poly, min_Qs, max_Qs, k_fold, f_train)"
   ]
  },
  {
   "cell_type": "markdown",
   "id": "e3b83d46",
   "metadata": {},
   "source": [
    "## Cross validation for Ridge Regression "
   ]
  },
  {
   "cell_type": "code",
   "execution_count": null,
   "id": "6836b94a",
   "metadata": {},
   "outputs": [],
   "source": [
    "nb_division_test = 6\n",
    "min_Qs = np.linspace(0, 25, num=6)\n",
    "max_Qs = np.linspace(75, 100, num=6)\n",
    "poly = np.linspace(2,9,8, dtype=int)\n",
    "lambdas = np.logspace(-6, 0, 10)\n",
    "k_fold = 4\n",
    "\n",
    "f_train = lambda y,x,lambda_,gamma, initial_w : ridge_regression(y,x,lambda_)\n",
    "\n",
    "result_rr, best_params_rr = grid_search_with_cross_validation(y_train, x_train, ids_train, nb_division_test, poly,  min_Qs, max_Qs, k_fold, f_train, lambdas = lambdas)"
   ]
  },
  {
   "cell_type": "markdown",
   "id": "87cdc7da",
   "metadata": {},
   "source": [
    "# Cross validation for classification "
   ]
  },
  {
   "cell_type": "markdown",
   "id": "60cb995d",
   "metadata": {},
   "source": [
    "### Cross validation for logistic regression"
   ]
  },
  {
   "cell_type": "code",
   "execution_count": null,
   "id": "e7207000",
   "metadata": {
    "scrolled": true
   },
   "outputs": [],
   "source": [
    "nb_division_test = 6\n",
    "min_Qs = np.linspace(0, 25, num=6)\n",
    "max_Qs = np.linspace(75, 100, num=6)\n",
    "poly = np.linspace(2,9,8, dtype=int)\n",
    "max_iters = 700\n",
    "threshold_gd = 1e-8\n",
    "gammas = np.logspace(-6, 0, 7)\n",
    "\n",
    "f_train = lambda y,x,lambda_,gamma, initial_w : \\\n",
    "        logistic_regression(y, x, initial_w, max_iters, gamma, threshold_gd, stochastic = False)\n",
    "\n",
    "result_lr, best_params_lr = grid_search_with_cross_validation(y_train, x_train, ids_train, nb_division_test, poly,  min_Qs, max_Qs, k_fold, f_train, gammas=gammas)"
   ]
  },
  {
   "cell_type": "markdown",
   "id": "b94edef7",
   "metadata": {},
   "source": [
    "### Cross validation for regularized logistic regression"
   ]
  },
  {
   "cell_type": "code",
   "execution_count": null,
   "id": "9c96c192",
   "metadata": {},
   "outputs": [],
   "source": [
    "nb_division_test = 6\n",
    "poly = np.linspace(2,9,8, dtype=int)\n",
    "min_Qs = np.linspace(0, 25, num=6)\n",
    "max_Qs = np.linspace(75, 100, num=6)\n",
    "max_iter = 800\n",
    "threshold_gd = 1e-8\n",
    "gamma = np.logspace(-7, 0, 8)\n",
    "lambda_ = np.logspace(-7, 0, 8)\n",
    "k_fold = 4\n",
    "\n",
    "f_train = lambda y,x,lambda_,gamma, initial_w : reg_logistic_regression(y, x, lambda_, initial_w, max_iter, gamma, threshold_gd, stochastic = False)\n",
    "\n",
    "result_lr, best_params_lr = grid_search_with_cross_validation(y_train, x_train, ids_train, nb_division_test, poly,  min_Qs, max_Qs, k_fold, f_train, gammas=gamma, lambdas=lambda_)"
   ]
  },
  {
   "cell_type": "markdown",
   "id": "a9cd24af",
   "metadata": {},
   "source": [
    "# Get statistics for parameters and function \n",
    "With all the best parameters found, we want to compare the results we got with the 6 models. \n",
    "\n",
    "To do that we run a cross validation multiple times so that we get not only a value - the mean - but also the variance over this value. In order to do this we use boxplots  "
   ]
  },
  {
   "cell_type": "code",
   "execution_count": null,
   "id": "b350841e",
   "metadata": {},
   "outputs": [],
   "source": [
    "nb_division_test = 6\n",
    "min_Qs = [\n",
    "    [20,10,20,20,0,20],\n",
    "    [10,10,10,10,10,10],\n",
    "    [10,10,10,10,10,10],\n",
    "    [10,10,10,10,10,10],\n",
    "    [10,10,10,10,10,10],\n",
    "    [10,10,10,10,10,10]\n",
    "]\n",
    "max_Qs =  [\n",
    "    [80,80,90,90,90,90],\n",
    "    [90,90,90,90,90,90],\n",
    "    [90,90,90,90,90,90],\n",
    "    [90,90,90,90,90,90],\n",
    "    [90,90,90,90,90,90],\n",
    "    [90,90,90,90,90,90]\n",
    "]\n",
    "poly_exps = [\n",
    "    [2,2,2,2,2,2],\n",
    "    [2,2,2,2,2,2],\n",
    "    [2,2,2,2,2,2],\n",
    "    [2,2,2,2,2,2],\n",
    "    [2,2,2,2,2,2],\n",
    "    [2,2,2,2,2,2]\n",
    "]\n",
    "lambdas = [\n",
    "    [-1,-1,-1,-1,-1,-1],\n",
    "    [0.1, 0.1, 0.1, 0.1, 0.1, 0.1],\n",
    "    [-1,-1,-1,-1,-1,-1],\n",
    "    [0.1, 0.1, 0.1, 0.1, 0.1, 0.1]\n",
    "]\n",
    "gammas = [\n",
    "    [0.001, 0.001, 0.001, 0.001, 0.001, 0.001],\n",
    "    [0.1, 0.1, 0.1, 0.1, 0.1, 0.1],\n",
    "    [-1,-1,-1,-1,-1,-1],\n",
    "    [-1,-1,-1,-1,-1,-1],\n",
    "    [0.1, 0.1, 0.1, 0.1, 0.1, 0.1],\n",
    "    [0.1, 0.1, 0.1, 0.1, 0.1, 0.1]\n",
    "]\n",
    "max_iter = 1000\n",
    "threshold_gd = 1e-4\n",
    "nb_iters = 10\n",
    "k_fold = 4\n",
    "stoch = True \n",
    "f_train_sgd = lambda y,x,lambda_,gamma, initial_w : mean_squared_error_sgd(y, x, initial_w, max_iters, gamma)\n",
    "f_train_gd = lambda y,x,lambda_,gamma, initial_w : mean_squared_error_gd(y, x, initial_w, max_iters, gamma)\n",
    "f_train_ls = lambda y,x,lambda_ ,gamma, initial_w: least_squares(y,x)\n",
    "f_train_rr = lambda y,x,lambda_,gamma, initial_w : ridge_regression(y,x,lambda_)\n",
    "f_train_lr = lambda y,x, lambda_,gamma, initial_w : \\\n",
    "            logistic_regression(y, x, initial_w, max_iter, gamma, threshold_gd, stochastic = stoch)\n",
    "f_train_rlr = lambda y,x,lambda_,gamma, initial_w : \\\n",
    "            reg_logistic_regression(y, x, lambda_, initial_w, max_iter, gamma, threshold_gd, stochastic = stoch)\n",
    "\n",
    "f_trains = [f_train_sgd, f_train_gd, f_train_ls, f_train_rr, f_train_lr, f_train_rlr]\n",
    "losses_te_s = []"
   ]
  },
  {
   "cell_type": "code",
   "execution_count": null,
   "id": "5c93c852",
   "metadata": {
    "scrolled": true
   },
   "outputs": [],
   "source": [
    "for i,f_train in enumerate(f_trains) :\n",
    "    print(i)\n",
    "    _, losses_te, _ = statistics_on_best_params(\\\n",
    "                x_train, ids_train, y_train, lambdas[i], nb_iters, k_fold,\\\n",
    "                f_train, gammas[i], poly_exps[i], min_Qs[i], max_Qs[i])\n",
    "    losses_te_s.append(losses_te)\n",
    "plt.boxplot(losses_te_s)\n",
    "#plt.boxplot([[loss[0][0] for loss in losses ] for losses in losses_te_s])"
   ]
  }
 ],
 "metadata": {
  "kernelspec": {
   "display_name": "Python 3 (ipykernel)",
   "language": "python",
   "name": "python3"
  },
  "language_info": {
   "codemirror_mode": {
    "name": "ipython",
    "version": 3
   },
   "file_extension": ".py",
   "mimetype": "text/x-python",
   "name": "python",
   "nbconvert_exporter": "python",
   "pygments_lexer": "ipython3",
   "version": "3.9.7"
  }
 },
 "nbformat": 4,
 "nbformat_minor": 5
}
